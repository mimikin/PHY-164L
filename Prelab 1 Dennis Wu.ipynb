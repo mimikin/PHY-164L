{
 "cells": [
  {
   "cell_type": "markdown",
   "metadata": {},
   "source": [
    "## Reading 1A Intro to Uncertainty\n",
    "\n",
    "### Checkpoint Exercises\n",
    "\n",
    "<ol>\n",
    "    <li>   \n",
    "        <ol>\n",
    "            <li>\n",
    "            The external sources of noise and the fluctuation of the force itself (probably due to thermal expansion or negligible displacements), would be the most significant in this special case.\n",
    "            </li>\n",
    "            <li>The best measurement value should be the average value of the reading due to common sense and the nature of the instrument, or $ ( 42.4234 \\, N + 42.3591 \\, N ) \\, / \\, 2 = 42.3913 N $. The uncertainty should be the fluctuation of the measurement, or $ \\pm \\, 0.03 N $. Thus, the whole expression would be  $ (42.39 \\pm 0.03) N $, as per sig fig rules.\n",
    "            </li>\n",
    "        </ol>\n",
    "    </li>\n",
    "    <li> $ \\quad (x_1-x_2) = (0.211 \\pm 0.001) \\, m$</li>\n",
    "    <li>\n",
    "        <ol>\n",
    "            <li>\n",
    "            $ (10.0 \\pm 0.2) \\, km $\n",
    "            </li>\n",
    "            <li>\n",
    "            $ (0.0030 \\pm 0.0002) \\, seconds $\n",
    "            </li>\n",
    "        </ol>\n",
    "    </li>\n",
    "    <li>\n",
    "        <ol>\n",
    "            <li>\n",
    "            $ (2.30 \\pm 0.8 \\%) \\times 10^8 \\, LY $\n",
    "            </li>\n",
    "            <li>\n",
    "            $ (3.203 \\pm 0.2 \\%) \\times 10^{-9} \\, m $\n",
    "            </li>\n",
    "        </ol>\n",
    "    </li>\n",
    "</ol> \n",
    "\n",
    "### Accuracy vs. precision\n",
    "\n",
    "<ol>\n",
    "<li>The ruler is of bad quality and \"1 cm\" is actually 1.5 cm; or the pointer of an ammeter was not calibrated</li>\n",
    "<li>I will order the maximum amount of food the chef can produce each day, and measure the temperature of the food at specific times and specific locations, the color/smell of the food, etc. If the food is comparatively and consistently cold compared to common sense, the chef would be Chef 2. If the food is comparatively and consistently hot, the chef would be Chef 1. If the food temperature differs a lot (30K?) between different dishes, the chef would be Chef 3.</li>\n",
    "<li>Chef 1 and 2 achieved best precision, while Chef 3 achieved best accuracy.</li>\n",
    "</ol> \n"
   ]
  },
  {
   "cell_type": "markdown",
   "metadata": {},
   "source": [
    "## Reading 1B Coding: Part 1"
   ]
  },
  {
   "cell_type": "code",
   "execution_count": 2,
   "metadata": {},
   "outputs": [
    {
     "name": "stdout",
     "output_type": "stream",
     "text": [
      "Hello World!\n",
      "----\n",
      "Just some test strings! Strings are denoted by a pair of quotes or astrophes.\n"
     ]
    }
   ],
   "source": [
    "# Hello World!\n",
    "\n",
    "string_1 = \"Hello World!\"\n",
    "string_2 = \"Just some test strings! Strings are denoted by a pair of quotes or astrophes.\"\n",
    "\n",
    "print(string_1)\n",
    "print('----')\n",
    "print(string_2)"
   ]
  },
  {
   "cell_type": "markdown",
   "metadata": {},
   "source": [
    "# Large Title Font\n",
    "## Smaller Title Font\n",
    "\n",
    "**Bold** and *italic*\n",
    "\n",
    "* point 1\n",
    "* point 2\n",
    "\n",
    "1. Problem list 1\n",
    "1. Problem list 2\n",
    "1. Problem list 3"
   ]
  },
  {
   "cell_type": "code",
   "execution_count": 3,
   "metadata": {},
   "outputs": [
    {
     "name": "stdout",
     "output_type": "stream",
     "text": [
      "75\n",
      "32\n",
      "224\n",
      "Hello, World!\n",
      "a =  Physics 164L  and b =  Dennis Wu\n",
      " \"Yes, but is it made of strawberry?\" asked Dennis.\n",
      "Wu replied that, no, it wasn't.\n"
     ]
    },
    {
     "data": {
      "text/plain": [
       "'\\n\\nHere are some formatted strings.\\n\\n------------\\n+++++++++\\n------\\n===\\n*\\n\\nSpac     es\\n\\nAnd \\n\\nline\\nbreaks\\n\\nare preserved\\n'"
      ]
     },
     "execution_count": 3,
     "metadata": {},
     "output_type": "execute_result"
    }
   ],
   "source": [
    "# This is a code comment,\n",
    "# and you can make a multi-line comment\n",
    "# by using '#' on each line\n",
    "\n",
    "print(32+43)\n",
    "\n",
    "print(32)\n",
    "\n",
    "print(32+64+128)\n",
    "\n",
    "print(\"Hello, World!\")\n",
    "\n",
    "a = 'Physics 164L'\n",
    "b = 'Dennis Wu'\n",
    "\n",
    "print(\"a = \", a, \" and b = \", b)\n",
    "\n",
    "print(' \"Yes, but is it made of strawberry?\" asked Dennis.')\n",
    "\n",
    "print(\"Wu replied that, no, it wasn't.\")\n",
    "\n",
    "'''\n",
    "\n",
    "Here are some formatted strings.\n",
    "\n",
    "------------\n",
    "+++++++++\n",
    "------\n",
    "===\n",
    "*\n",
    "\n",
    "Spac     es\n",
    "\n",
    "And \n",
    "\n",
    "line\n",
    "breaks\n",
    "\n",
    "are preserved\n",
    "'''\n"
   ]
  },
  {
   "cell_type": "markdown",
   "metadata": {},
   "source": [
    "## Exercise 1. The distance formula"
   ]
  },
  {
   "cell_type": "code",
   "execution_count": 10,
   "metadata": {},
   "outputs": [],
   "source": [
    "def d (p_1,p_2):\n",
    "    dis = 0.0\n",
    "    for i in range(len(p_1)):\n",
    "        dis = dis + ((p_1[i]) - (p_2[i]))**2    # calculating euclidean distance\n",
    "    return dis**0.5     # returns distance between p_1 and p_2"
   ]
  },
  {
   "cell_type": "code",
   "execution_count": 11,
   "metadata": {},
   "outputs": [
    {
     "name": "stdout",
     "output_type": "stream",
     "text": [
      "9.260764971642462\n"
     ]
    }
   ],
   "source": [
    "p_1 = (1.0, 2.0)\n",
    "p_2 = (-3.1415, -6.2831)\n",
    "\n",
    "print(d(p_1,p_2))    # prints distance between p_1 and p_2"
   ]
  },
  {
   "cell_type": "markdown",
   "metadata": {},
   "source": [
    "## Exercise 2. Calculating a physical force"
   ]
  },
  {
   "cell_type": "code",
   "execution_count": 15,
   "metadata": {},
   "outputs": [],
   "source": [
    "# Defining variables\n",
    "A = 1\n",
    "m = 0.53\n",
    "m_new = 10.3\n",
    "p = (3.0, 0.0, 5.0)\n",
    "p_1 = (-1.0, 1.0, -1.0)\n",
    "p_2 = (1.0, -1.0, 1.0)"
   ]
  },
  {
   "cell_type": "code",
   "execution_count": 16,
   "metadata": {},
   "outputs": [],
   "source": [
    "# constructing function of force\n",
    "def f (A, m, m_new, p, p_new):\n",
    "    force = A*(m*m_new/(d(p,p_new)**2))\n",
    "    return force"
   ]
  },
  {
   "cell_type": "code",
   "execution_count": 17,
   "metadata": {},
   "outputs": [
    {
     "name": "stdout",
     "output_type": "stream",
     "text": [
      "0.10300000000000001\n",
      "0.259952380952381\n"
     ]
    }
   ],
   "source": [
    "# Print result\n",
    "print(f(A,m,m_new, p, p_1))\n",
    "print(f(A,m,m_new, p, p_2))"
   ]
  },
  {
   "cell_type": "code",
   "execution_count": null,
   "metadata": {},
   "outputs": [],
   "source": []
  }
 ],
 "metadata": {
  "kernelspec": {
   "display_name": "Python 3",
   "language": "python",
   "name": "python3"
  },
  "language_info": {
   "codemirror_mode": {
    "name": "ipython",
    "version": 3
   },
   "file_extension": ".py",
   "mimetype": "text/x-python",
   "name": "python",
   "nbconvert_exporter": "python",
   "pygments_lexer": "ipython3",
   "version": "3.7.6"
  }
 },
 "nbformat": 4,
 "nbformat_minor": 4
}
